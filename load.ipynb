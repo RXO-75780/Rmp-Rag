{
 "cells": [
  {
   "cell_type": "code",
   "execution_count": 26,
   "metadata": {},
   "outputs": [],
   "source": [
    "from dotenv import load_dotenv\n",
    "load_dotenv()\n",
    "\n",
    "import os\n",
    "from pinecone import Pinecone, ServerlessSpec\n",
    "from openai import OpenAI\n"
   ]
  },
  {
   "cell_type": "code",
   "execution_count": 28,
   "metadata": {},
   "outputs": [
    {
     "name": "stdout",
     "output_type": "stream",
     "text": [
      "Index created successfully.\n"
     ]
    }
   ],
   "source": [
    "try:\n",
    "    pc = Pinecone(api_key=os.getenv(\"PINECONE_API_KEY\"))\n",
    "    pc.create_index(\n",
    "        name=\"rag\", \n",
    "        dimension=1536, \n",
    "        metric=\"cosine\", \n",
    "        spec=ServerlessSpec(cloud=\"aws\", region=\"us-east-1\")\n",
    "    )\n",
    "    print(\"Index created successfully.\")\n",
    "except Exception as e:\n",
    "    print(f\"Failed to create index: {e}\")\n"
   ]
  },
  {
   "cell_type": "code",
   "execution_count": 29,
   "metadata": {},
   "outputs": [
    {
     "data": {
      "text/plain": [
       "[{'professor': 'Dr. John Smith',\n",
       "  'subject': 'Computer Science',\n",
       "  'stars': 4,\n",
       "  'review': 'Very knowledgeable but can be tough. Lectures are clear and assignments are challenging.'},\n",
       " {'professor': 'Dr. Emily Brown',\n",
       "  'subject': 'Mathematics',\n",
       "  'stars': 5,\n",
       "  'review': 'Explains concepts very well and is always willing to help during office hours.'},\n",
       " {'professor': 'Dr. Michael Johnson',\n",
       "  'subject': 'Physics',\n",
       "  'stars': 3,\n",
       "  'review': 'Content is difficult, but the professor tries his best. Could improve on providing more examples.'},\n",
       " {'professor': 'Dr. Sarah Lee',\n",
       "  'subject': 'Chemistry',\n",
       "  'stars': 5,\n",
       "  'review': 'Great at making difficult topics understandable. Her labs are well-organized.'},\n",
       " {'professor': 'Dr. Robert Davis',\n",
       "  'subject': 'Biology',\n",
       "  'stars': 2,\n",
       "  'review': \"Lectures are hard to follow and he doesn't respond to emails promptly.\"},\n",
       " {'professor': 'Dr. Jennifer Wilson',\n",
       "  'subject': 'History',\n",
       "  'stars': 4,\n",
       "  'review': 'Engaging lecturer, but the reading load is heavy.'},\n",
       " {'professor': 'Dr. Thomas Martinez',\n",
       "  'subject': 'Economics',\n",
       "  'stars': 5,\n",
       "  'review': 'He makes economics fun and interesting. Exams are straightforward if you study.'},\n",
       " {'professor': 'Dr. Karen Moore',\n",
       "  'subject': 'English Literature',\n",
       "  'stars': 3,\n",
       "  'review': 'Very knowledgeable, but sometimes the lectures can be a bit dry.'},\n",
       " {'professor': 'Dr. William Taylor',\n",
       "  'subject': 'Psychology',\n",
       "  'stars': 4,\n",
       "  'review': 'Interesting lectures and fair grading, but a bit slow in returning assignments.'},\n",
       " {'professor': 'Dr. Patricia Anderson',\n",
       "  'subject': 'Philosophy',\n",
       "  'stars': 5,\n",
       "  'review': 'Amazing professor who really encourages deep thinking and discussion.'},\n",
       " {'professor': 'Dr. Christopher Thomas',\n",
       "  'subject': 'Sociology',\n",
       "  'stars': 3,\n",
       "  'review': 'Decent lecturer, but the course material is not very engaging.'},\n",
       " {'professor': 'Dr. Linda Jackson',\n",
       "  'subject': 'Political Science',\n",
       "  'stars': 4,\n",
       "  'review': 'Very passionate about the subject and encourages class participation.'},\n",
       " {'professor': 'Dr. Steven White',\n",
       "  'subject': 'Art History',\n",
       "  'stars': 2,\n",
       "  'review': 'Monotonous lectures and the grading is harsh.'},\n",
       " {'professor': 'Dr. Elizabeth Harris',\n",
       "  'subject': 'Music Theory',\n",
       "  'stars': 5,\n",
       "  'review': 'Her passion for music is contagious. Assignments are challenging but rewarding.'},\n",
       " {'professor': 'Dr. James Clark',\n",
       "  'subject': 'Anthropology',\n",
       "  'stars': 3,\n",
       "  'review': 'Average lecturer. The material is interesting but could be presented better.'},\n",
       " {'professor': 'Dr. Barbara Lewis',\n",
       "  'subject': 'Environmental Science',\n",
       "  'stars': 4,\n",
       "  'review': 'Knowledgeable and approachable, but the workload is heavy.'},\n",
       " {'professor': 'Dr. Mark Walker',\n",
       "  'subject': 'Engineering',\n",
       "  'stars': 5,\n",
       "  'review': 'Excellent professor. Clear explanations and practical examples.'},\n",
       " {'professor': 'Dr. Nancy Young',\n",
       "  'subject': 'Law',\n",
       "  'stars': 3,\n",
       "  'review': 'Good at explaining legal concepts, but the exams are very tough.'},\n",
       " {'professor': 'Dr. Paul King',\n",
       "  'subject': 'Statistics',\n",
       "  'stars': 4,\n",
       "  'review': 'Challenging course, but the professor provides plenty of resources to help you succeed.'},\n",
       " {'professor': 'Dr. Sandra Green',\n",
       "  'subject': 'Marketing',\n",
       "  'stars': 5,\n",
       "  'review': 'Dynamic and engaging. She brings real-world examples to every lecture.'}]"
      ]
     },
     "execution_count": 29,
     "metadata": {},
     "output_type": "execute_result"
    }
   ],
   "source": [
    "import json\n",
    "with open(\"reviews.json\") as f:\n",
    "    data = json.load(f)\n",
    "data['reviews']"
   ]
  },
  {
   "cell_type": "code",
   "execution_count": 30,
   "metadata": {},
   "outputs": [],
   "source": [
    "process_data = []\n",
    "client = OpenAI()\n",
    "\n",
    "\n",
    "for review in data['reviews']:\n",
    "  response = client.embeddings.create(\n",
    "    input=review['review'],\n",
    "    model=\"text-embedding-3-small\",\n",
    "  )\n",
    "  embedding = response.data[0].embedding\n",
    "  process_data.append({\n",
    "    \"values\": embedding,\n",
    "    \"id\":review[\"professor\"],\n",
    "    \"metadata\": {\n",
    "      \"review\": review[\"review\"],\n",
    "      \"subject\": review[\"subject\"],\n",
    "      \"stars\": review[\"stars\"]\n",
    "    }\n",
    "  })"
   ]
  },
  {
   "cell_type": "code",
   "execution_count": 33,
   "metadata": {},
   "outputs": [
    {
     "data": {
      "text/plain": [
       "{'upserted_count': 20}"
      ]
     },
     "execution_count": 33,
     "metadata": {},
     "output_type": "execute_result"
    }
   ],
   "source": [
    "index = pc.Index('rag')\n",
    "index.upsert(\n",
    "  vectors=process_data,\n",
    "  namespace=\"ns1\"\n",
    ")"
   ]
  },
  {
   "cell_type": "code",
   "execution_count": 34,
   "metadata": {},
   "outputs": [
    {
     "data": {
      "text/plain": [
       "{'dimension': 1536,\n",
       " 'index_fullness': 0.0,\n",
       " 'namespaces': {'ns1': {'vector_count': 20}},\n",
       " 'total_vector_count': 20}"
      ]
     },
     "execution_count": 34,
     "metadata": {},
     "output_type": "execute_result"
    }
   ],
   "source": [
    "index.describe_index_stats()"
   ]
  }
 ],
 "metadata": {
  "kernelspec": {
   "display_name": "rag",
   "language": "python",
   "name": "python3"
  },
  "language_info": {
   "codemirror_mode": {
    "name": "ipython",
    "version": 3
   },
   "file_extension": ".py",
   "mimetype": "text/x-python",
   "name": "python",
   "nbconvert_exporter": "python",
   "pygments_lexer": "ipython3",
   "version": "3.10.14"
  }
 },
 "nbformat": 4,
 "nbformat_minor": 2
}
